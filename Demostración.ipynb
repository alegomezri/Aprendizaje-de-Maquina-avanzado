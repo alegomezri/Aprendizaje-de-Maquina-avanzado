{
  "nbformat": 4,
  "nbformat_minor": 0,
  "metadata": {
    "colab": {
      "name": "Demostración.ipynb",
      "provenance": [],
      "authorship_tag": "ABX9TyOeJdrmcgirdaQi7b3t5QUN",
      "include_colab_link": true
    },
    "kernelspec": {
      "name": "python3",
      "display_name": "Python 3"
    }
  },
  "cells": [
    {
      "cell_type": "markdown",
      "metadata": {
        "id": "view-in-github",
        "colab_type": "text"
      },
      "source": [
        "<a href=\"https://colab.research.google.com/github/alegomezri/Aprendizaje-de-Maquina-avanzado/blob/main/Demostraci%C3%B3n.ipynb\" target=\"_parent\"><img src=\"https://colab.research.google.com/assets/colab-badge.svg\" alt=\"Open In Colab\"/></a>"
      ]
    },
    {
      "cell_type": "markdown",
      "metadata": {
        "id": "8iNEhSyUQjeS"
      },
      "source": [
        "# **Demostraciones**\n",
        "\n",
        "\n"
      ]
    },
    {
      "cell_type": "markdown",
      "metadata": {
        "id": "Uh2trJFnQAj1"
      },
      "source": [
        "Sabiendo que \n",
        "\n",
        "$$K_c(x_n,x_m) = K(x_n,x_m) - \\frac{1}{N}\\sum_{n=1}^N K(x_n,x_m) - \\frac{1}{N}\\sum_{m=1}^N K(x_n,x_m) + \\frac{1}{N}\\sum_{n,m=1}^N K(x_n,x_m)$$\n",
        "\n",
        "$$\\boldsymbol{K}_c \\in \\mathbb R^{NxN} = [K_c(x_n,x_m)]_{n,m=1}^N $$\n",
        "Demostrar que \n",
        "\n",
        "$$\\boldsymbol{K}_c = \\boldsymbol{H}\\boldsymbol{K}\\boldsymbol{H}; \\ \\boldsymbol{H} = \\boldsymbol{I} - \\frac{\\boldsymbol{11}^T}{N}$$\n",
        "\n",
        "### Demostración \n",
        "\n",
        "Se puede ver que "
      ]
    },
    {
      "cell_type": "markdown",
      "metadata": {
        "id": "tEekScDqQSDm"
      },
      "source": [
        "$$\\boldsymbol{K} = [K(x_n,x_m)]_{n,m=1}^N$$\n",
        "\n",
        "$$[\\frac{1}{N}\\sum_{n=1}^N K(x_n,x_m)]_{n,m=1}^N = \\frac{\\boldsymbol{1}\\boldsymbol{1}^T}{N}\\boldsymbol{K}$$\n",
        "\n",
        "$$[\\frac{1}{N}\\sum_{M=1}^N K(x_n,x_m)]_{n,m=1}^N = \\boldsymbol{K} \\frac{\\boldsymbol{1}\\boldsymbol{1}^T}{N}$$\n",
        "\n",
        "$$[\\frac{1}{N}\\sum_{n,m=1}^N K(x_n,x_m)]_{n,m=1}^N = \\frac{\\boldsymbol{1}\\boldsymbol{1}^T}{N}\\boldsymbol{K} \\frac{\\boldsymbol{1}\\boldsymbol{1}^T}{N}$$"
      ]
    },
    {
      "cell_type": "markdown",
      "metadata": {
        "id": "RsfTt99uQZtT"
      },
      "source": [
        "Entonces\n",
        "\n",
        "$$\\boldsymbol{K}_c = \\boldsymbol{K} - \\frac{\\boldsymbol{1}\\boldsymbol{1}^T}{N}\\boldsymbol{K} - \\boldsymbol{K} \\frac{\\boldsymbol{1}\\boldsymbol{1}^T}{N} + \\frac{\\boldsymbol{1}\\boldsymbol{1}^T}{N}\\boldsymbol{K} \\frac{\\boldsymbol{1}\\boldsymbol{1}^T}{N}$$\n",
        "\n",
        "$$\\boldsymbol{K}_c = (\\boldsymbol{I} - \\frac{\\boldsymbol{1}\\boldsymbol{1}^T}{N})\\boldsymbol{K} - (\\boldsymbol{I}  - \\frac{\\boldsymbol{1}\\boldsymbol{1}^T}{N})\\boldsymbol{K} \\frac{\\boldsymbol{1}\\boldsymbol{1}^T}{N}$$\n",
        "\n",
        "$$\\boldsymbol{K}_c = (\\boldsymbol{I} - \\frac{\\boldsymbol{1}\\boldsymbol{1}^T}{N})(\\boldsymbol{K} - \\boldsymbol{K} \\frac{\\boldsymbol{1}\\boldsymbol{1}^T}{N})$$\n",
        "\n",
        "$$\\boldsymbol{K}_c = (\\boldsymbol{I} - \\frac{\\boldsymbol{1}\\boldsymbol{1}^T}{N})\\boldsymbol{K} (\\boldsymbol{I} - \\frac{\\boldsymbol{1}\\boldsymbol{1}^T}{N})$$\n"
      ]
    },
    {
      "cell_type": "markdown",
      "metadata": {
        "id": "6MSaQF3EgLOX"
      },
      "source": [
        "# Hilbert Embeddings"
      ]
    },
    {
      "cell_type": "markdown",
      "metadata": {
        "id": "cOapfecYgNC3"
      },
      "source": [
        "## Probar la desigualdad de Jensen \n",
        "\n",
        "$$|E_p\\{f(X)\\}| \\leq E\\{|f(X)|\\}$$\n",
        "\n",
        "**Definición:**\n",
        "\n",
        "Una función $\\text{g}: I \\rightarrow \\mathbb{R}$, donde $I$ es un intervalo en $\\mathbb{R}$. Decimos que es convexa para culquier dos puntos $x$ y $y$ en $I$ y cualquier $\\alpha \\in [0,1]$, tenemos\n",
        "\n",
        "$$g(\\alpha x + (1-\\alpha)y) \\leq \\alpha g(x) + (1-\\alpha)g(y)$$\n",
        "\n",
        "y más generalmente, para $x_1,x_2,..,x_n$ en $I$  y valores reales no negativos de $\\alpha_i$ tales que $\\alpha_1 + \\alpha_2 + ... + \\alpha_n = 1$\n",
        "\n",
        "$$g(\\alpha_1x_1 + \\alpha_2x_2 + ... + \\alpha_nx_n) \\leq \\alpha_1g(x_1) + \\alpha_2g(x_2)+ ... + \\alpha_ng(x_n)$$\n",
        "\n",
        "Ahora si tenemos una variable aleatoria $X$ con $n$ posibles valores $x_1,x_2,..,x_n$ y decimos que $\\alpha_i = P(X=x_i)$\n",
        "\n",
        "entonces \n",
        "$$g(\\alpha_1x_1 + \\alpha_2x_2 + ... + \\alpha_nx_n) = g(E\\{X\\})$$\n",
        "$$\\alpha_1g(x_1) + \\alpha_2g(x_2)+ ... + \\alpha_ng(x_n) = E\\{g(X)\\}$$\n",
        "y\n",
        "$$g(E\\{X\\}) \\leq E\\{g(X)\\} $$\n",
        "\n",
        "como el valor absoluto es una función convexa, y $f(\\cdot)$ no afecta la probabilidad de $X$, la anterior ecuación equivale a la que se tenia inicialmente."
      ]
    },
    {
      "cell_type": "markdown",
      "metadata": {
        "id": "J6iyA-f-gVpC"
      },
      "source": [
        "## Operador de covarianza cruzada \n",
        "Sean $\\mathscr{R}$,$\\mathscr{G}$ RKHS \n",
        "\n",
        "$$\\varphi: \\mathcal{X} \\rightarrow \\mathscr{R}$$\n",
        "$$\\phi: \\mathcal{X} \\rightarrow \\mathscr{G}$$\n",
        "\n",
        "En $\\mathcal{X}$; para $\\boldsymbol{x}$, $\\boldsymbol{y}$ $\\in$ $\\mathcal{X}$\n",
        "\n",
        "$$\\boldsymbol{C}_{\\boldsymbol{xy}} = E_{\\boldsymbol{xy}}\\{\\boldsymbol{xy}^T\\}$$ \n",
        "Demostrar \n",
        "\n",
        "$$\\bar{\\boldsymbol{C}}_{\\boldsymbol{xy}} = \\boldsymbol{C}_{\\boldsymbol{xy}} - \\boldsymbol{\\mu}_{\\boldsymbol{x}}\\boldsymbol{\\mu}^T_{\\boldsymbol{y}}$$\n",
        "\n",
        "$\\boldsymbol{\\mu_x} = E_{\\boldsymbol{x}}\\{\\boldsymbol{x}\\}$\n",
        "\n",
        "$\\boldsymbol{\\mu_y} = E_{\\boldsymbol{y}}\\{\\boldsymbol{y}\\}$\n",
        "\n",
        "**Demostración**\n",
        "\n",
        "Centralización \n",
        "\n",
        "$$\\bar{\\boldsymbol{C}}_{\\boldsymbol{xy}} = E\\{(\\boldsymbol{x}-E\\{\\boldsymbol{x}\\})(\\boldsymbol{y}-E\\{\\boldsymbol{y}\\})^T\\}$$\n",
        "\n",
        "$$\\bar{\\boldsymbol{C}}_{\\boldsymbol{xy}} = E_{\\boldsymbol{xy}}\\{\\boldsymbol{x}\\boldsymbol{y}^T- \\boldsymbol{x}E_{\\boldsymbol{y}}\\{\\boldsymbol{y}\\}^T - E_{\\boldsymbol{x}}\\{\\boldsymbol{x}\\}\\boldsymbol{y}^T + E_{\\boldsymbol{x}}\\{\\boldsymbol{x}\\}E_{\\boldsymbol{y}}\\{\\boldsymbol{y}\\}^T\\}$$\n",
        "\n",
        "$$\\bar{\\boldsymbol{C}}_{\\boldsymbol{xy}} = E_{\\boldsymbol{xy}}\\{\\boldsymbol{x}\\boldsymbol{y}^T\\}- E_{\\boldsymbol{x}}\\{\\boldsymbol{x}\\} E_{\\boldsymbol{y}}\\{\\boldsymbol{y}\\}^T - E_{\\boldsymbol{x}}\\{\\boldsymbol{x}\\}E_{\\boldsymbol{y}}\\{\\boldsymbol{y}\\}^T + E_{\\boldsymbol{x}}\\{\\boldsymbol{x}\\}E_{\\boldsymbol{y}}\\{\\boldsymbol{y}\\}^T$$\n",
        "\n",
        "\n",
        "$$\\bar{\\boldsymbol{C}}_{\\boldsymbol{xy}} = E_{\\boldsymbol{xy}}\\{\\boldsymbol{x}\\boldsymbol{y}^T\\}-E_{\\boldsymbol{x}}\\{\\boldsymbol{x}\\}E_{\\boldsymbol{y}}\\{\\boldsymbol{y}\\}^T $$\n",
        "\n",
        "$$\\bar{\\boldsymbol{C}}_{\\boldsymbol{xy}} = \\boldsymbol{C}_{\\boldsymbol{xy}} - \\boldsymbol{\\mu}_{\\boldsymbol{x}}\\boldsymbol{\\mu}^T_{\\boldsymbol{y}}$$"
      ]
    },
    {
      "cell_type": "markdown",
      "metadata": {
        "id": "RHqBDyjWgoHp"
      },
      "source": [
        "# Estimador básico de $C_{\\boldsymbol{xy}}$ \n",
        "\n",
        "Dado el conjunto [i.i.d](https://es.wikipedia.org/wiki/Variables_aleatorias_independientes_e_id%C3%A9nticamente_distribuidas) $\\{\\boldsymbol{x}_i,\\boldsymbol{y}_i \\in \\mathcal{X}\\}_{i=1}^N$\n",
        "\n",
        "$$\\boldsymbol{\\hat{C}_{xy}} = \\frac{1}{N}\\sum_{i=1}^N \\varphi(\\boldsymbol{x}_i)\\otimes\\phi(\\boldsymbol{y}_i) - \\boldsymbol{\\hat{\\mu}_{x}}\\otimes\\boldsymbol{\\hat{\\mu}_{y}}$$\n",
        "\n",
        "$\\boldsymbol{\\hat{\\mu}_{x}} = \\frac{1}{N}\\sum_{i=1}^N\\varphi(\\boldsymbol{x}_i)\\ ;\\ \\boldsymbol{\\hat{\\mu}_{y}} = \\frac{1}{N}\\sum_{i=1}^N\\varphi(\\boldsymbol{y}_i)$\n",
        "\n",
        "\n",
        "**Demostrar**\n",
        "\n",
        "$$\\boldsymbol{\\hat{C}_{xy}} = \\frac{1}{N}\\boldsymbol{\\Phi_x H }\\boldsymbol{\\Phi_y}^T$$\n",
        "\n",
        "Donde \n",
        "\n",
        "$\\boldsymbol{\\Phi_x} = [\\varphi(\\boldsymbol{x}_1), \\cdots ,\\varphi(\\boldsymbol{x}_N)]; \\ \\boldsymbol{\\Phi_y} =[\\phi(\\boldsymbol{y}_1), \\cdots ,\\phi(\\boldsymbol{y}_N)]\\ ; \\ \\boldsymbol{H} = \\boldsymbol{I} - \\frac{1}{N}\\boldsymbol{1}\\boldsymbol{1}^T$\n",
        "\n",
        "\n",
        "\n"
      ]
    },
    {
      "cell_type": "markdown",
      "metadata": {
        "id": "a3PvvEgQhDga"
      },
      "source": [
        "**Demostración**\n",
        "\n",
        "Ya que $\\varphi(\\boldsymbol{x}_i)$ y $\\phi(\\boldsymbol{y}_i)$ son vectores, pordemos reescribir \n",
        "\n",
        "$$\\boldsymbol{\\hat{C}_{xy}} = \\frac{1}{N}\\sum_{i=1}^N \\varphi(\\boldsymbol{x}_i)\\phi(\\boldsymbol{y}_i)^T - \\boldsymbol{\\hat{\\mu}_{x}}\\boldsymbol{\\hat{\\mu}_{y}}^T$$\n",
        "\n",
        "$$\\boldsymbol{\\hat{C}_{xy}} = \\frac{1}{N}\\sum_{i=1}^N \\varphi(\\boldsymbol{x}_i)\\phi(\\boldsymbol{y}_i)^T - \\frac{1}{N}\\sum_{i=1}^N\\varphi(\\boldsymbol{x}_i) \\frac{1}{N}\\sum_{i=1}^N\\varphi(\\boldsymbol{y}_i)^T$$\n"
      ]
    },
    {
      "cell_type": "markdown",
      "metadata": {
        "id": "2SUeyqc5hOF4"
      },
      "source": [
        ""
      ]
    },
    {
      "cell_type": "markdown",
      "metadata": {
        "id": "moRhNoDOhObr"
      },
      "source": [
        "tenemos que \n",
        "\n",
        "$$\\frac{1}{N}\\sum_{i=1}^N \\varphi(\\boldsymbol{x}_i)\\phi(\\boldsymbol{y}_i)^T = \\frac{1}{N}\\boldsymbol{\\Phi_x}\\boldsymbol{\\Phi_y}^T$$\n",
        "\n",
        "$$\\frac{1}{N}\\sum_{i=1}^N\\varphi(\\boldsymbol{x}_i) = \\frac{1}{N}\\boldsymbol{\\Phi_x}\\boldsymbol{1}$$\n",
        "\n",
        "ya que \n",
        "$$\\sum_{i=1}^N\\varphi(\\boldsymbol{x}_i) = \\begin{bmatrix}\n",
        "\\varphi(\\boldsymbol{x}_1)      &   \\varphi(\\boldsymbol{x}_2)    & \\cdots     &  \\varphi(\\boldsymbol{x}_N)     \n",
        "            \\end{bmatrix}\\begin{bmatrix}\n",
        "1     \\\\   1    \\\\ \\vdots     \\\\  1    \n",
        "            \\end{bmatrix}  $$\n",
        "\n",
        "\n",
        "Usando el mismo razonamienot para $\\hat{\\boldsymbol{\\mu_y}}^T$\n",
        "\n",
        "$$\\frac{1}{N}\\sum_{i=1}^N\\phi(\\boldsymbol{y}_i)^T= \\frac{1}{N}\\boldsymbol{1}^T\\boldsymbol{\\Phi_y}^T$$\n",
        "\n",
        "Entonces tenemos \n",
        "\n",
        "$$\\boldsymbol{\\hat{C}_{xy}}  = \\frac{1}{N}\\boldsymbol{\\Phi_x} \\boldsymbol{\\Phi_y}^T - \\frac{1}{N}\\boldsymbol{\\Phi_x}\\boldsymbol{1} \\frac{1}{N}\\boldsymbol{1}^T\\boldsymbol{\\Phi_y}^T $$\n",
        "\n",
        "$$\\boldsymbol{\\hat{C}_{xy}}  = \\frac{1}{N}\\boldsymbol{\\Phi_x} (\\boldsymbol{I} - \\frac{1}{N}\\boldsymbol{1}\\boldsymbol{1}^T)\\boldsymbol{\\Phi_y}^T$$\n",
        "\n",
        "$$\\boldsymbol{\\hat{C}_{xy}}  = \\frac{1}{N}\\boldsymbol{\\Phi_x} \\boldsymbol{H}\\boldsymbol{\\Phi_y}^T$$\n"
      ]
    }
  ]
}