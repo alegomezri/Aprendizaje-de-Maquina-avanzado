{
  "nbformat": 4,
  "nbformat_minor": 0,
  "metadata": {
    "colab": {
      "name": "APRENDIZAJE_DE_MAQUINA.ipynb",
      "provenance": [],
      "collapsed_sections": [],
      "include_colab_link": true
    },
    "kernelspec": {
      "display_name": "Python 3",
      "name": "python3"
    },
    "accelerator": "GPU"
  },
  "cells": [
    {
      "cell_type": "markdown",
      "metadata": {
        "id": "view-in-github",
        "colab_type": "text"
      },
      "source": [
        "<a href=\"https://colab.research.google.com/github/alegomezri/Aprendizaje-de-Maquina-avanzado/blob/main/APRENDIZAJE_DE_MAQUINA.ipynb\" target=\"_parent\"><img src=\"https://colab.research.google.com/assets/colab-badge.svg\" alt=\"Open In Colab\"/></a>"
      ]
    },
    {
      "cell_type": "markdown",
      "metadata": {
        "id": "8rkzpmx9yxRo"
      },
      "source": [
        "# Aprendizaje Avanzado de maquina / Andres Marino Alvarez Meza\n",
        "\n",
        "# Yessica Alejandra Gomez Rivera\n"
      ]
    },
    {
      "cell_type": "markdown",
      "metadata": {
        "id": "p9UTPTI7x1sI"
      },
      "source": [
        "## Regresión Lineal\n"
      ]
    },
    {
      "cell_type": "markdown",
      "metadata": {
        "id": "fgVGeIpPYHYr"
      },
      "source": [
        "la regresión lineal simple son métodos estadísticos que estudian la relación lineal existente entre dos variables. \n",
        "\n",
        "$$y = wx + b$$"
      ]
    },
    {
      "cell_type": "code",
      "metadata": {
        "id": "GHztpxaL_fWV"
      },
      "source": [
        "import numpy as np\n",
        "import matplotlib.pyplot as plt\n",
        "import tensorflow as tf #Es una librería que puede utilizarse para crear modelos de Deep Learning directamente"
      ],
      "execution_count": null,
      "outputs": []
    },
    {
      "cell_type": "code",
      "metadata": {
        "id": "UTpNBAW6AUy3",
        "colab": {
          "base_uri": "https://localhost:8080/",
          "height": 282
        },
        "outputId": "5803806b-3a66-4ca7-c615-3e5464e63445"
      },
      "source": [
        "N = 500 #numero de muestras \n",
        "x = np.linspace(-5,5,N) #vector de datos entre -5 y 5 \n",
        "w1,w0 = 2,-1\n",
        "Xdata = np.c_[x.reshape(-1,1),np.ones((N,1))] ##reshape: (-1,1) estoy pasando de dupla a vector \n",
        "w = np.array([w1,w0]).reshape(-1,1) #array: define una estructura de datos de secuencia\n",
        "y = Xdata.dot(w) #mi señal original \n",
        "var = 0.5 \n",
        "noise = np.sqrt(var)*np.random.randn(N) #insertando ruido \n",
        "yn = y + noise.reshape(-1,1) #mi señal original+ruido\n",
        "\n",
        "plt.plot(y,label=\"original\")\n",
        "plt.plot(yn,label=\"ruidosa\")\n",
        "plt.legend()"
      ],
      "execution_count": null,
      "outputs": [
        {
          "output_type": "execute_result",
          "data": {
            "text/plain": [
              "<matplotlib.legend.Legend at 0x7f7e5e885c88>"
            ]
          },
          "metadata": {
            "tags": []
          },
          "execution_count": 2
        },
        {
          "output_type": "display_data",
          "data": {
            "image/png": "[encoded data removed]",
            "text/plain": [
              "<Figure size 432x288 with 1 Axes>"
            ]
          },
          "metadata": {
            "tags": [],
            "needs_background": "light"
          }
        }
      ]
    },
    {
      "cell_type": "code",
      "metadata": {
        "id": "sqsAhwIZKHu2"
      },
      "source": [
        "#ploteo la grafica de la señal original y la ruidosa."
      ],
      "execution_count": null,
      "outputs": []
    },
    {
      "cell_type": "markdown",
      "metadata": {
        "id": "D2ffjXbrXcAc"
      },
      "source": [
        "### ENTRENAMIENTO BASE DE DATOS COMPLETA\n",
        "\n",
        "Imposible para grandes cantidades de datos"
      ]
    },
    {
      "cell_type": "code",
      "metadata": {
        "id": "wYINuI5HXCOW",
        "colab": {
          "base_uri": "https://localhost:8080/",
          "height": 316
        },
        "outputId": "b343c267-7e81-4717-8453-dc65acccf177"
      },
      "source": [
        "#training \n",
        "epochs = 50 #epocas\n",
        "lr = 1e-4\n",
        "we = np.random.randn(2).reshape(-1,1) #reshape: estoy pasando de dupla a vector \n",
        "loss = np.zeros((epochs)) #loss: saca un vector de ceros, el numero de epocas.\n",
        "\n",
        "for epoch in range(epochs):\n",
        "  ye = (Xdata.dot(we)).reshape(-1,1)\n",
        "  loss[epoch] = np.linalg.norm(yn-ye)\n",
        "  grad = (2*Xdata.T).dot(ye-yn)\n",
        "  we = we -lr*grad\n",
        "\n",
        "plt.subplot(211)\n",
        "plt.plot(np.arange(epochs),loss)\n",
        "plt.subplot(212)\n",
        "plt.plot(y,label=\"original\")\n",
        "plt.plot(ye,label=\"estimado\")\n",
        "plt.legend()\n",
        "print(w,we)"
      ],
      "execution_count": null,
      "outputs": [
        {
          "output_type": "stream",
          "text": [
            "[[ 2]\n",
            " [-1]] [[ 1.99925751]\n",
            " [-1.025704  ]]\n"
          ],
          "name": "stdout"
        },
        {
          "output_type": "display_data",
          "data": {
            "image/png": "[encoded data removed]",
            "text/plain": [
              "<Figure size 432x288 with 2 Axes>"
            ]
          },
          "metadata": {
            "tags": [],
            "needs_background": "light"
          }
        }
      ]
    },
    {
      "cell_type": "code",
      "metadata": {
        "id": "cU969BYnM79H"
      },
      "source": [
        "#plotea el entrenamiento respecto a la señal original y el estimado base de datos completa."
      ],
      "execution_count": null,
      "outputs": []
    },
    {
      "cell_type": "markdown",
      "metadata": {
        "id": "rbg81l0byHrF"
      },
      "source": [
        "### Entrenamiento con iteraciones \n",
        "\n",
        "Para grandes cantidades de datos "
      ]
    },
    {
      "cell_type": "code",
      "metadata": {
        "id": "MfKAtMLcDDvF",
        "colab": {
          "base_uri": "https://localhost:8080/",
          "height": 316
        },
        "outputId": "763064b5-fd82-4100-b74c-c781e78a9b18"
      },
      "source": [
        "#training \n",
        "epochs = 50\n",
        "bath_size = 500 #bath cantidad de caracteristicas.\n",
        "lr = 1e-4\n",
        "we = np.random.randn(2).reshape(-1,1)\n",
        "loss = np.zeros((epochs))\n",
        "lamb = 1e-1 \n",
        "\n",
        "iteraciones = int(len(Xdata)/bath_size)\n",
        "for epoch in range(epochs):\n",
        "  for i in range(1,iteraciones+1): \n",
        "    Xbath = Xdata[(i-1)*bath_size:i*bath_size,:]\n",
        "    ynbath = yn[(i-1)*bath_size:i*bath_size]\n",
        "    ye = (Xbath.dot(we)).reshape(-1,1)\n",
        "    loss[epoch] = loss[epoch] + np.linalg.norm(ynbath-ye) + lamb*np.linalg.norm(we)\n",
        "    grad = (2*Xbath.T).dot(ye-ynbath) + 2*lamb*we\n",
        "    we = we - lr*grad\n",
        "\n",
        "plt.subplot(211)\n",
        "plt.plot(np.arange(epochs),loss)\n",
        "plt.subplot(212)\n",
        "plt.plot(y,label=\"original\")\n",
        "plt.plot(Xdata.dot(we),label=\"estimado\")\n",
        "plt.legend()\n",
        "print(w,we)"
      ],
      "execution_count": null,
      "outputs": [
        {
          "output_type": "stream",
          "text": [
            "[[ 2]\n",
            " [-1]] [[ 1.99920972]\n",
            " [-1.02827548]]\n"
          ],
          "name": "stdout"
        },
        {
          "output_type": "display_data",
          "data": {
            "image/png": "[encoded data removed]",
            "text/plain": [
              "<Figure size 432x288 with 2 Axes>"
            ]
          },
          "metadata": {
            "tags": [],
            "needs_background": "light"
          }
        }
      ]
    },
    {
      "cell_type": "code",
      "metadata": {
        "id": "Z0pWK4w7NpSu"
      },
      "source": [
        "#ploteo la señal original y la estimada respecto al modelo con iteraciones."
      ],
      "execution_count": null,
      "outputs": []
    },
    {
      "cell_type": "markdown",
      "metadata": {
        "id": "JmT7RYFtjKNR"
      },
      "source": [
        "# Modelo anterior usando la API de keras "
      ]
    },
    {
      "cell_type": "code",
      "metadata": {
        "id": "6V5fIu0B4f-n"
      },
      "source": [
        "#los  Keras los aplico con la finalidad de obtener informacion en un modelo y con esos datos entrenar la estructura de una red, cuando ingreso datos puede predecir."
      ],
      "execution_count": null,
      "outputs": []
    },
    {
      "cell_type": "code",
      "metadata": {
        "id": "3BqbLOzLgew1"
      },
      "source": [
        "model = tf.keras.models.Sequential([\n",
        "  tf.keras.layers.InputLayer(input_shape=(1)),\n",
        "  tf.keras.layers.Dense(1,use_bias=True)\n",
        "])"
      ],
      "execution_count": null,
      "outputs": []
    },
    {
      "cell_type": "code",
      "metadata": {
        "id": "OndOIRTlhZNJ"
      },
      "source": [
        "model.compile(   #compilando el modelo para entrenarlo.\n",
        "    loss='mse',\n",
        ")"
      ],
      "execution_count": null,
      "outputs": []
    },
    {
      "cell_type": "code",
      "metadata": {
        "id": "zVzjnEylykKE",
        "colab": {
          "base_uri": "https://localhost:8080/"
        },
        "outputId": "e0fe418f-2873-448e-9040-165eb63584d5"
      },
      "source": [
        "model.fit(\n",
        "    x=Xdata[:,0],y=yn,\n",
        "    epochs=500,\n",
        "    verbose=False,\n",
        ")"
      ],
      "execution_count": null,
      "outputs": [
        {
          "output_type": "execute_result",
          "data": {
            "text/plain": [
              "<tensorflow.python.keras.callbacks.History at 0x7f7e500f0588>"
            ]
          },
          "metadata": {
            "tags": []
          },
          "execution_count": 11
        }
      ]
    },
    {
      "cell_type": "code",
      "metadata": {
        "id": "zAknwxXcgc5P",
        "colab": {
          "base_uri": "https://localhost:8080/"
        },
        "outputId": "5875b09e-ace2-41fb-d02c-6128dd74adc9"
      },
      "source": [
        "model.weights # weights: verifica el modelo que tengo. "
      ],
      "execution_count": null,
      "outputs": [
        {
          "output_type": "execute_result",
          "data": {
            "text/plain": [
              "[<tf.Variable 'dense/kernel:0' shape=(1, 1) dtype=float32, numpy=array([[1.9980974]], dtype=float32)>,\n",
              " <tf.Variable 'dense/bias:0' shape=(1,) dtype=float32, numpy=array([-1.0320874], dtype=float32)>]"
            ]
          },
          "metadata": {
            "tags": []
          },
          "execution_count": 12
        }
      ]
    },
    {
      "cell_type": "markdown",
      "metadata": {
        "id": "UwuNQG31yr6O"
      },
      "source": [
        "# Kernels\n",
        "\n",
        "\n",
        "\n"
      ]
    },
    {
      "cell_type": "markdown",
      "metadata": {
        "id": "TmzDEWuZLIpo"
      },
      "source": [
        "![images.png](data:image/png;base64,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)"
      ]
    },
    {
      "cell_type": "markdown",
      "metadata": {
        "id": "ANt6c7Ld5qWT"
      },
      "source": [
        "los kernels lo que hacen es ayudarle a dar separbilidad a mis datos , hay diferentes tipos de kernels,\n",
        "unos son lineales y otros no lineales. (lineal: superficial, plano,linea,que separan los datos).\n",
        "cuando mis datos tengan una alta variabilidad, los kernels  me pueden ayudar en la seleccion de esa variabilidad, pero son mas densos en su estructura de cálculo,\n",
        "porque tienen en cuenta las caracteristicas(media, varianza, correlaciones) de los datos. puedo tener n caracteristicas de mis datos. "
      ]
    },
    {
      "cell_type": "code",
      "metadata": {
        "id": "UCRdbCr1zUP9"
      },
      "source": [
        "import tensorflow_probability as tfp"
      ],
      "execution_count": null,
      "outputs": []
    },
    {
      "cell_type": "markdown",
      "metadata": {
        "id": "LlnmJ9FtqDPV"
      },
      "source": [
        "Data"
      ]
    },
    {
      "cell_type": "code",
      "metadata": {
        "id": "x_5c1Ckep8jt"
      },
      "source": [
        "N = 500\n",
        "X = np.linspace(-3*np.pi,3*np.pi,N) # linspace crea un vector de datos.\n",
        "y = np.sinc(X/np.pi) #y: es una señal senoidal\n",
        "var = 0.1\n",
        "mue = 0\n",
        "noise = mue + np.sqrt(var)*np.random.randn(Xdata.shape[0]) #estoy introduciendo ruido.\n",
        "yn = y + noise #yn: mi señal mas ruido.\n",
        "Xdata = X.reshape(-1,1) #reshape: (-1,1) estoy pasando de dupla a vector "
      ],
      "execution_count": null,
      "outputs": []
    },
    {
      "cell_type": "code",
      "metadata": {
        "id": "qQ81jXV9qGcg",
        "colab": {
          "base_uri": "https://localhost:8080/",
          "height": 282
        },
        "outputId": "300184b4-d35f-4482-d7e5-cba6bc706bd6"
      },
      "source": [
        "plt.plot(X,y,'.r',label=\"original\")\n",
        "plt.plot(X,yn,'.k',label=\"ruidosa\")\n",
        "plt.legend()"
      ],
      "execution_count": null,
      "outputs": [
        {
          "output_type": "execute_result",
          "data": {
            "text/plain": [
              "<matplotlib.legend.Legend at 0x7f7deb50af98>"
            ]
          },
          "metadata": {
            "tags": []
          },
          "execution_count": 15
        },
        {
          "output_type": "display_data",
          "data": {
            "image/png": "[encoded data removed]",
            "text/plain": [
              "<Figure size 432x288 with 1 Axes>"
            ]
          },
          "metadata": {
            "tags": [],
            "needs_background": "light"
          }
        }
      ]
    },
    {
      "cell_type": "code",
      "metadata": {
        "id": "xVmRF-zC-E8K"
      },
      "source": [
        "#grafica mi señal senoidal original y la señal senoidal+ruido."
      ],
      "execution_count": null,
      "outputs": []
    },
    {
      "cell_type": "code",
      "metadata": {
        "id": "ZlLlcX5NiqsI"
      },
      "source": [
        "Kernel = tfp.math.psd_kernels.ExponentiatedQuadratic(\n",
        "    amplitude=None, length_scale=None, feature_ndims=1, validate_args=False,\n",
        "    name='ExponentiatedQuadratic'\n",
        ")\n",
        "#estoy creando el kernel sin amplitud,sin escala, y con una sola caracteristica."
      ],
      "execution_count": null,
      "outputs": []
    },
    {
      "cell_type": "code",
      "metadata": {
        "id": "uD2bhiyDzgsu"
      },
      "source": [
        "number_centers = 50 #Numero de centroides: puntos de referencia en el modelo.\n",
        "Xcen = np.arange(0,Xdata.shape[0],int(Xdata.shape[0]/number_centers)+1) #arange esta creando un rango entre los datos. "
      ],
      "execution_count": null,
      "outputs": []
    },
    {
      "cell_type": "code",
      "metadata": {
        "id": "IcQaYZYf0GBD"
      },
      "source": [
        "K = Kernel.matrix(Xdata,Xdata[Xcen]).numpy() # estoy haciendo el kernel, ingreando los datos y los datos respecto a ese numero de centroides."
      ],
      "execution_count": null,
      "outputs": []
    },
    {
      "cell_type": "code",
      "metadata": {
        "id": "D1NN_4tN0sGq",
        "colab": {
          "base_uri": "https://localhost:8080/"
        },
        "outputId": "c3c5f38e-37f2-4d58-87f5-cfb8523e8e8e"
      },
      "source": [
        "K.shape  #shape: las dimensiones de los datos."
      ],
      "execution_count": null,
      "outputs": [
        {
          "output_type": "execute_result",
          "data": {
            "text/plain": [
              "(500, 46)"
            ]
          },
          "metadata": {
            "tags": []
          },
          "execution_count": 20
        }
      ]
    },
    {
      "cell_type": "code",
      "metadata": {
        "id": "UydEIPY70jBz"
      },
      "source": [
        "Xdata = K"
      ],
      "execution_count": null,
      "outputs": []
    },
    {
      "cell_type": "markdown",
      "metadata": {
        "id": "V8JgqibxxEDC"
      },
      "source": [
        "# **Kernels** \n",
        "\n",
        "$$y = \\sum_{i=1}^{N} a_iK(x_i,X)$$"
      ]
    },
    {
      "cell_type": "code",
      "metadata": {
        "id": "95Ri9-gwypJ9",
        "colab": {
          "base_uri": "https://localhost:8080/",
          "height": 282
        },
        "outputId": "3f49071b-8f1e-471d-f1cf-08d3324e153d"
      },
      "source": [
        "#training \n",
        "epochs = 5000\n",
        "bath_size = 500 #cantidad de caracteristicas (tamaño)\n",
        "lr = 1e-4\n",
        "\n",
        "we = np.random.randn(Xdata.shape[1]).reshape(-1,1)\n",
        "loss = np.zeros((epochs)) #loss: saca un vector de 5000 ceros, el numero de epocas.\n",
        "lamb = 1e-1 \n",
        "\n",
        "iteraciones = int(len(Xdata)/bath_size) #las iteraciones son un vaor entero que son de la longitud de mis datos dividiendo el tamaño de las caracteristicas.\n",
        "for epoch in range(epochs): #entra en un ciclo que va por cada una de las epocas que son 5000  \n",
        "  for i in range(1,iteraciones+1): #dentro de cada una de esas epocas voy a hacer las iteraciones +1\n",
        "    Xbath = Xdata[(i-1)*bath_size:i*bath_size,:] #creo los baths que van a ser respecto a mis datos, Xbath son mis \n",
        "    ynbath = yn[(i-1)*bath_size:i*bath_size].reshape(-1,1) #ybath son mis datos con ruido \n",
        "    ye = (Xbath.dot(we)).reshape(-1,1)\n",
        "    loss[epoch] = loss[epoch] + np.linalg.norm(ynbath-ye) + lamb*np.linalg.norm(we) #loss es un vector de ceros, que guardo en cada una de mis epocas que retorna la norma vectorial entre mis datos con ruido, menos mis datos originales, mas un escalar por la norma vectorial de we (ramdom vectorial entre 0 y 1).\n",
        "    grad = (2*Xbath.T).dot(ye-ynbath) + 2*lamb*we # ese valor de Loss es para tener en cuenta un coeficiente, despues de tener ese valor calculamos el gradiente de mis datos contra los datos con ruio mas dos por lamdaque es una cosntante, por we que es un ramdon.\n",
        "    we = we - lr*grad #lo que hace we es ajustar el valor hasta obtener el estimado.\n",
        "\n",
        "plt.subplot(211)\n",
        "plt.plot(np.arange(epochs),loss)\n",
        "plt.subplot(212)\n",
        "plt.plot(y,label=\"original\")\n",
        "plt.plot(Xdata.dot(we),label=\"estimado\")\n",
        "plt.legend()"
      ],
      "execution_count": null,
      "outputs": [
        {
          "output_type": "execute_result",
          "data": {
            "text/plain": [
              "<matplotlib.legend.Legend at 0x7f7de9457a58>"
            ]
          },
          "metadata": {
            "tags": []
          },
          "execution_count": 22
        },
        {
          "output_type": "display_data",
          "data": {
            "image/png": "[encoded data removed]",
            "text/plain": [
              "<Figure size 432x288 with 2 Axes>"
            ]
          },
          "metadata": {
            "tags": [],
            "needs_background": "light"
          }
        }
      ]
    },
    {
      "cell_type": "code",
      "metadata": {
        "id": "qDbjzniCuX_M",
        "colab": {
          "base_uri": "https://localhost:8080/"
        },
        "outputId": "4b9fe698-4e70-41a7-b218-09cbd20a1548"
      },
      "source": [
        "we.shape"
      ],
      "execution_count": null,
      "outputs": [
        {
          "output_type": "execute_result",
          "data": {
            "text/plain": [
              "(46, 1)"
            ]
          },
          "metadata": {
            "tags": []
          },
          "execution_count": 23
        }
      ]
    },
    {
      "cell_type": "code",
      "metadata": {
        "id": "kLDk5m5FGNzN"
      },
      "source": [
        "#la grafica azul es la original y la naranja es el estimado para obtener la recontruccion mas cercana a mi señal con Kernels.\n",
        "#la parte de arriba se encuentra cuantas iteraciones se necesitaron para obtener una mejor configuracion o estimacion en la recontruccion de la señal."
      ],
      "execution_count": null,
      "outputs": []
    }
  ]
}